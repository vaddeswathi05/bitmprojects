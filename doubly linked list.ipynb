{
 "cells": [
  {
   "cell_type": "code",
   "execution_count": 4,
   "id": "47d7fbf5-1dc2-4a34-9f59-f0421aaa47ec",
   "metadata": {},
   "outputs": [
    {
     "name": "stdout",
     "output_type": "stream",
     "text": [
      "List after inserting nodeat begining:\n",
      "30\n",
      "20\n",
      "10\n",
      "\n",
      "List after deleting from the begining:\n",
      "list is empety\n",
      "linked list after deleting\n",
      "List is empety\n"
     ]
    }
   ],
   "source": [
    "class Node:\n",
    "    def __init__(self, data=None):\n",
    "        self.data = data\n",
    "        self.next = None\n",
    "        self.prev = None\n",
    "        \n",
    "class DoublyLinkedList:\n",
    "    \n",
    "    def __init__(self):\n",
    "        self.head = None\n",
    "        \n",
    "    def insert_at_begin(self, data):\n",
    "        new_node = Node(data)\n",
    "        if self.head is None:\n",
    "            self.head = new_node\n",
    "        else:\n",
    "            self.head.prev = new_node\n",
    "            new_node.next = self.head\n",
    "            self.head = new_node\n",
    "    def delete_at_begin(self):\n",
    "        if self.head is None:\n",
    "            print(\"list is empety\")\n",
    "            return\n",
    "        elif self.head.next is None:\n",
    "            self.head = None\n",
    "        else:\n",
    "            self.head  = self.head.next\n",
    "            self.head.prev = None\n",
    "    def print_list(self):\n",
    "        if self.head is None:\n",
    "            print(\"List is empety\")\n",
    "            return\n",
    "        curr = Node()\n",
    "        curr = self.head\n",
    "        while(curr != None):\n",
    "            print(curr.data)\n",
    "            curr = curr.next\n",
    "        print()\n",
    "obj= DoublyLinkedList()\n",
    "obj.insert_at_begin(10)\n",
    "obj.insert_at_begin(20)\n",
    "obj.insert_at_begin(30)\n",
    "\n",
    "print(\"List after inserting nodeat begining:\")\n",
    "obj.print_list()\n",
    "\n",
    "obj.delete_at_begin()\n",
    "print(\"List after deleting from the begining:\")\n",
    "\n",
    "obj.delete_at_begin()\n",
    "obj.delete_at_begin()\n",
    "obj.delete_at_begin()\n",
    "print(\"linked list after deleting\")\n",
    "obj.print_list()"
   ]
  },
  {
   "cell_type": "code",
   "execution_count": null,
   "id": "74b8662c-4aab-4076-bc42-cd97e751ad2e",
   "metadata": {},
   "outputs": [],
   "source": []
  }
 ],
 "metadata": {
  "kernelspec": {
   "display_name": "Python 3 (ipykernel)",
   "language": "python",
   "name": "python3"
  },
  "language_info": {
   "codemirror_mode": {
    "name": "ipython",
    "version": 3
   },
   "file_extension": ".py",
   "mimetype": "text/x-python",
   "name": "python",
   "nbconvert_exporter": "python",
   "pygments_lexer": "ipython3",
   "version": "3.11.7"
  }
 },
 "nbformat": 4,
 "nbformat_minor": 5
}
