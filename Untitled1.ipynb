{
 "cells": [
  {
   "cell_type": "code",
   "execution_count": 7,
   "id": "9752ebc9-c18c-4316-88c6-aff2ce4db656",
   "metadata": {},
   "outputs": [
    {
     "name": "stdout",
     "output_type": "stream",
     "text": [
      "naagu harshi siri\n"
     ]
    }
   ],
   "source": [
    "class civil:\n",
    "    def swathi(self,n1,n2,n3):\n",
    "        self.n1=n1\n",
    "        self.n2=n2\n",
    "        self.n3=n3\n",
    "        print(n1,n2,n3)\n",
    "obj=civil()\n",
    "obj.swathi(\"naagu\",\"harshi\",\"siri\")"
   ]
  },
  {
   "cell_type": "code",
   "execution_count": null,
   "id": "f8261c71-91d8-411d-91b4-5db3eb05f1a8",
   "metadata": {},
   "outputs": [],
   "source": []
  }
 ],
 "metadata": {
  "kernelspec": {
   "display_name": "Python 3 (ipykernel)",
   "language": "python",
   "name": "python3"
  },
  "language_info": {
   "codemirror_mode": {
    "name": "ipython",
    "version": 3
   },
   "file_extension": ".py",
   "mimetype": "text/x-python",
   "name": "python",
   "nbconvert_exporter": "python",
   "pygments_lexer": "ipython3",
   "version": "3.11.7"
  }
 },
 "nbformat": 4,
 "nbformat_minor": 5
}
