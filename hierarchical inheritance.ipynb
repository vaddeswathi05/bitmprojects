{
 "cells": [
  {
   "cell_type": "code",
   "execution_count": 9,
   "id": "00f600e4-6999-474a-a4f0-6c3d85bc446a",
   "metadata": {},
   "outputs": [
    {
     "name": "stdout",
     "output_type": "stream",
     "text": [
      "we are in parent class\n",
      "we are in 1st child class\n",
      "we are in 2rd child class\n",
      "we are in 3rd child class\n"
     ]
    }
   ],
   "source": [
    "class parent():\n",
    "    def a(self):\n",
    "        print(\"we are in parent class\")\n",
    "class child1(parent):\n",
    "    def b(self):\n",
    "        print(\"we are in 1st child class\")\n",
    "class child2(parent):\n",
    "    def c(self):\n",
    "        print(\"we are in 2rd child class\")\n",
    "class child3(parent):\n",
    "    def d(self):\n",
    "        print(\"we are in 3rd child class\")\n",
    "o1=child1()\n",
    "o2=child2()\n",
    "o3=child3()\n",
    "o1.a()\n",
    "o1.b()\n",
    "o2.c()\n",
    "o3.d()\n",
    "\n",
    "        "
   ]
  },
  {
   "cell_type": "code",
   "execution_count": null,
   "id": "0a489ac4-cf50-437b-8efd-506a1f6dbca6",
   "metadata": {},
   "outputs": [],
   "source": []
  }
 ],
 "metadata": {
  "kernelspec": {
   "display_name": "Python 3 (ipykernel)",
   "language": "python",
   "name": "python3"
  },
  "language_info": {
   "codemirror_mode": {
    "name": "ipython",
    "version": 3
   },
   "file_extension": ".py",
   "mimetype": "text/x-python",
   "name": "python",
   "nbconvert_exporter": "python",
   "pygments_lexer": "ipython3",
   "version": "3.11.7"
  }
 },
 "nbformat": 4,
 "nbformat_minor": 5
}
