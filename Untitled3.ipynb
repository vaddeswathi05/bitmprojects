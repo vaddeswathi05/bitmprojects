{
 "cells": [
  {
   "cell_type": "code",
   "execution_count": null,
   "id": "7a4b7d10-5a0e-42d6-9b01-7c6f99bee4d2",
   "metadata": {},
   "outputs": [
    {
     "name": "stdin",
     "output_type": "stream",
     "text": [
      " 5\n",
      " 2\n",
      " 3\n",
      " 1\n",
      " 5\n"
     ]
    }
   ],
   "source": [
    "n=int(input().strip())\n",
    "arr=[int(input().strip()) for i in range(n)]\n",
    "temp=0\n",
    "for i in range(0,n):\n",
    "    for j in range(i,n):\n",
    "        if(arr[i]>arr[j]):\n",
    "            temp=arr[i]\n",
    "            arr[i]=arr([j])\n",
    "            arr[j]=temp\n",
    "for i in range(0,n): \n",
    "    print(arr[i])"
   ]
  },
  {
   "cell_type": "code",
   "execution_count": null,
   "id": "b663b1e2-9c93-4a5e-bd6d-677291d893f2",
   "metadata": {},
   "outputs": [],
   "source": []
  }
 ],
 "metadata": {
  "kernelspec": {
   "display_name": "Python 3 (ipykernel)",
   "language": "python",
   "name": "python3"
  },
  "language_info": {
   "codemirror_mode": {
    "name": "ipython",
    "version": 3
   },
   "file_extension": ".py",
   "mimetype": "text/x-python",
   "name": "python",
   "nbconvert_exporter": "python",
   "pygments_lexer": "ipython3",
   "version": "3.11.7"
  }
 },
 "nbformat": 4,
 "nbformat_minor": 5
}
