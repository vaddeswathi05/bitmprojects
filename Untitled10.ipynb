{
 "cells": [
  {
   "cell_type": "code",
   "execution_count": 2,
   "id": "d85f8e84-918f-4187-8f40-8bde5d16b591",
   "metadata": {},
   "outputs": [
    {
     "ename": "SyntaxError",
     "evalue": "invalid syntax. Perhaps you forgot a comma? (2141286992.py, line 4)",
     "output_type": "error",
     "traceback": [
      "\u001b[1;36m  Cell \u001b[1;32mIn[2], line 4\u001b[1;36m\u001b[0m\n\u001b[1;33m    if(char=='a' or char=='e' or char== 'i'char=='o' or char=='u' or char=='A' or char=='E' or char=='I' or char=='O' or char=='U'):\u001b[0m\n\u001b[1;37m       ^\u001b[0m\n\u001b[1;31mSyntaxError\u001b[0m\u001b[1;31m:\u001b[0m invalid syntax. Perhaps you forgot a comma?\n"
     ]
    }
   ],
   "source": [
    "s=input()\n",
    "c=0\n",
    "for char in s:\n",
    "    if(char=='a' or char=='e' or char== 'i'char=='o' or char=='u' or char=='A' or char=='E' or char=='I' or char=='O' or char=='U'):\n",
    "    c=c+1\n",
    "print(\"count of vowles=\",c)"
   ]
  },
  {
   "cell_type": "code",
   "execution_count": null,
   "id": "6856c61f-dd05-43a7-bb94-2de331801556",
   "metadata": {},
   "outputs": [],
   "source": []
  }
 ],
 "metadata": {
  "kernelspec": {
   "display_name": "Python 3 (ipykernel)",
   "language": "python",
   "name": "python3"
  },
  "language_info": {
   "codemirror_mode": {
    "name": "ipython",
    "version": 3
   },
   "file_extension": ".py",
   "mimetype": "text/x-python",
   "name": "python",
   "nbconvert_exporter": "python",
   "pygments_lexer": "ipython3",
   "version": "3.11.7"
  }
 },
 "nbformat": 4,
 "nbformat_minor": 5
}
