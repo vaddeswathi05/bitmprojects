{
 "cells": [
  {
   "cell_type": "code",
   "execution_count": 6,
   "id": "318af595-7a77-470b-9c2b-1e1add182ef5",
   "metadata": {},
   "outputs": [
    {
     "name": "stdout",
     "output_type": "stream",
     "text": [
      "the youngest child islinus\n"
     ]
    }
   ],
   "source": [
    "def my_function(child3,child2,child1):\n",
    "    print(\"the youngest child is\"+child3)\n",
    "my_function (child1=\"emil\",child2=\"Tobias\",child3=\"linus\")"
   ]
  }
 ],
 "metadata": {
  "kernelspec": {
   "display_name": "Python 3 (ipykernel)",
   "language": "python",
   "name": "python3"
  },
  "language_info": {
   "codemirror_mode": {
    "name": "ipython",
    "version": 3
   },
   "file_extension": ".py",
   "mimetype": "text/x-python",
   "name": "python",
   "nbconvert_exporter": "python",
   "pygments_lexer": "ipython3",
   "version": "3.11.7"
  }
 },
 "nbformat": 4,
 "nbformat_minor": 5
}
