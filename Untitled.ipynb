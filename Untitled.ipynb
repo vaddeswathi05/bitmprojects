{
 "cells": [
  {
   "cell_type": "code",
   "execution_count": null,
   "id": "48f91ee8-102a-470d-85d1-3b35aeb85b28",
   "metadata": {},
   "outputs": [
    {
     "name": "stdin",
     "output_type": "stream",
     "text": [
      " 4\n",
      " 2\n"
     ]
    }
   ],
   "source": [
    "b1=int(input())\n",
    "b2=int(input())\n",
    "b3=int(input())\n",
    "if((b1>b2 and b1<b3)or (b1<b2 and b1>b3)):\n",
    "    print(\"tressure is in box no\" ,b1)\n",
    "elif((b2>b1 and b2<b3)or(b2<b1 and b2>b3)):\n",
    "    print(\"tressure is in box no\" ,b2)\n",
    "else:\n",
    "    print(\"tressure is in box no \",b3)\n",
    "key=0\n",
    "for i in range(1,10):\n",
    "    if(b1%i==0 and b2%i==0 and b3%i==o):\n",
    "        key=i\n",
    "print(\"key to open the box is \",key)"
   ]
  },
  {
   "cell_type": "code",
   "execution_count": null,
   "id": "f7ee3b9c-b21d-4060-9a11-b54ad8622d50",
   "metadata": {},
   "outputs": [],
   "source": []
  },
  {
   "cell_type": "code",
   "execution_count": null,
   "id": "808eed6b-e07c-401c-9599-9a5b84ef951b",
   "metadata": {},
   "outputs": [],
   "source": []
  }
 ],
 "metadata": {
  "kernelspec": {
   "display_name": "Python 3 (ipykernel)",
   "language": "python",
   "name": "python3"
  },
  "language_info": {
   "codemirror_mode": {
    "name": "ipython",
    "version": 3
   },
   "file_extension": ".py",
   "mimetype": "text/x-python",
   "name": "python",
   "nbconvert_exporter": "python",
   "pygments_lexer": "ipython3",
   "version": "3.11.7"
  }
 },
 "nbformat": 4,
 "nbformat_minor": 5
}
