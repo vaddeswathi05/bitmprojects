{
 "cells": [
  {
   "cell_type": "code",
   "execution_count": null,
   "id": "67a21b78-2b2e-4f83-bbe6-fdf4a0a28a42",
   "metadata": {},
   "outputs": [],
   "source": [
    "write a programm using single level inheritance toprint sum of elemnts."
   ]
  },
  {
   "cell_type": "code",
   "execution_count": 1,
   "id": "1f1636b2-d49b-4ebf-a38f-94cab743c26b",
   "metadata": {},
   "outputs": [
    {
     "name": "stdin",
     "output_type": "stream",
     "text": [
      " 5\n",
      " 4\n"
     ]
    },
    {
     "name": "stdout",
     "output_type": "stream",
     "text": [
      "sum= 9\n",
      "you are in child class\n"
     ]
    }
   ],
   "source": [
    "a=int(input())\n",
    "b=int(input())\n",
    "class parent:\n",
    "    def sum(self,a,b):\n",
    "        self.a=a\n",
    "        self.b=b\n",
    "        print(\"sum=\",self.a+self.b)\n",
    "class child(parent):\n",
    "    def son(self):\n",
    "        print(\"you are in child class\")\n",
    "o=child()\n",
    "o.sum(a,b)\n",
    "o.son()"
   ]
  },
  {
   "cell_type": "code",
   "execution_count": null,
   "id": "8a56fef8-54ac-4f19-8a9b-2f4c9182b3c3",
   "metadata": {},
   "outputs": [],
   "source": []
  }
 ],
 "metadata": {
  "kernelspec": {
   "display_name": "Python 3 (ipykernel)",
   "language": "python",
   "name": "python3"
  },
  "language_info": {
   "codemirror_mode": {
    "name": "ipython",
    "version": 3
   },
   "file_extension": ".py",
   "mimetype": "text/x-python",
   "name": "python",
   "nbconvert_exporter": "python",
   "pygments_lexer": "ipython3",
   "version": "3.11.7"
  }
 },
 "nbformat": 4,
 "nbformat_minor": 5
}
