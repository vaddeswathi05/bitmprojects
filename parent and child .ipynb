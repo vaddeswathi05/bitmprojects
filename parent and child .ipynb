{
 "cells": [
  {
   "cell_type": "code",
   "execution_count": 4,
   "id": "05efcf10-cf28-481c-9374-cdf257cc3da2",
   "metadata": {},
   "outputs": [
    {
     "name": "stdout",
     "output_type": "stream",
     "text": [
      "we are in parent class\n",
      "we are in child class\n"
     ]
    }
   ],
   "source": [
    "class parent:\n",
    "    def a(self):\n",
    "        print(\"we are in parent class\")\n",
    "class child(parent):\n",
    "    def c(self):\n",
    "        print(\"we are in child class\")\n",
    "obj2=child()\n",
    "obj2.a()\n",
    "obj2.c()\n",
    "        "
   ]
  },
  {
   "cell_type": "code",
   "execution_count": null,
   "id": "a5cef8eb-2a95-45fc-9d35-fba9f02eef92",
   "metadata": {},
   "outputs": [],
   "source": []
  }
 ],
 "metadata": {
  "kernelspec": {
   "display_name": "Python 3 (ipykernel)",
   "language": "python",
   "name": "python3"
  },
  "language_info": {
   "codemirror_mode": {
    "name": "ipython",
    "version": 3
   },
   "file_extension": ".py",
   "mimetype": "text/x-python",
   "name": "python",
   "nbconvert_exporter": "python",
   "pygments_lexer": "ipython3",
   "version": "3.11.7"
  }
 },
 "nbformat": 4,
 "nbformat_minor": 5
}
