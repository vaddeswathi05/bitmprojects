{
 "cells": [
  {
   "cell_type": "code",
   "execution_count": null,
   "id": "c4f39ad8-ff46-4747-a498-5274b39efb88",
   "metadata": {},
   "outputs": [],
   "source": [
    "\n",
    "whenever the function name is required same in both the inheritance classes (base class and child class)and wich is having diffrent types of parameters and di\n",
    "or diffrent types of data types \n",
    "\n",
    "\n",
    "when the both class and having same function name and parameters are present in both the base class and child class together \n",
    "\n",
    "the child class method is overlaid the base class method .if ur the calling the function to print the data it will only print the overloaaed data \n",
    "(overload child method)"
   ]
  },
  {
   "cell_type": "code",
   "execution_count": 3,
   "id": "4e0390ec-ce9e-4df1-b104-023e45a9b40a",
   "metadata": {},
   "outputs": [
    {
     "name": "stdout",
     "output_type": "stream",
     "text": [
      "Inside GrandChild\n",
      "Inside GrandChild\n"
     ]
    }
   ],
   "source": [
    "class parent():\n",
    "    def show(self):\n",
    "        pint(\"Inside parent\")\n",
    "class child(parent):\n",
    "    def show(self):\n",
    "        print(\"inside child\")\n",
    "class GrandChild(child):\n",
    "    def show(self):\n",
    "        print(\"Inside GrandChild\")\n",
    "g=GrandChild()\n",
    "g.show()\n",
    "g.show()"
   ]
  },
  {
   "cell_type": "code",
   "execution_count": null,
   "id": "665c58f2-d8b2-45d1-b2b0-14453842d1a4",
   "metadata": {},
   "outputs": [],
   "source": []
  }
 ],
 "metadata": {
  "kernelspec": {
   "display_name": "Python 3 (ipykernel)",
   "language": "python",
   "name": "python3"
  },
  "language_info": {
   "codemirror_mode": {
    "name": "ipython",
    "version": 3
   },
   "file_extension": ".py",
   "mimetype": "text/x-python",
   "name": "python",
   "nbconvert_exporter": "python",
   "pygments_lexer": "ipython3",
   "version": "3.11.7"
  }
 },
 "nbformat": 4,
 "nbformat_minor": 5
}
