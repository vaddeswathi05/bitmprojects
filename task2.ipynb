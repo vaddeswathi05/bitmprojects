{
 "cells": [
  {
   "cell_type": "code",
   "execution_count": 2,
   "id": "292ac05f-cda8-4ebf-aa50-5432789c580e",
   "metadata": {},
   "outputs": [
    {
     "name": "stdin",
     "output_type": "stream",
     "text": [
      " 2\n",
      " 4\n"
     ]
    },
    {
     "name": "stdout",
     "output_type": "stream",
     "text": [
      "6\n",
      "-2\n",
      "8\n"
     ]
    }
   ],
   "source": [
    "if __name__=='__main__':\n",
    "    a = int(input())\n",
    "    b = int(input())\n",
    "    sum=a+b\n",
    "    dif=a-b\n",
    "    prod=a*b\n",
    "    print(sum)\n",
    "    print(dif)\n",
    "    print(prod)\n"
   ]
  },
  {
   "cell_type": "code",
   "execution_count": null,
   "id": "f5bc2f7e-21c8-43b3-a806-76016d8d6da5",
   "metadata": {},
   "outputs": [],
   "source": []
  }
 ],
 "metadata": {
  "kernelspec": {
   "display_name": "Python 3 (ipykernel)",
   "language": "python",
   "name": "python3"
  },
  "language_info": {
   "codemirror_mode": {
    "name": "ipython",
    "version": 3
   },
   "file_extension": ".py",
   "mimetype": "text/x-python",
   "name": "python",
   "nbconvert_exporter": "python",
   "pygments_lexer": "ipython3",
   "version": "3.11.7"
  }
 },
 "nbformat": 4,
 "nbformat_minor": 5
}
