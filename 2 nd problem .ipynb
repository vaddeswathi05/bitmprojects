{
 "cells": [
  {
   "cell_type": "code",
   "execution_count": 4,
   "id": "8ffe84f9-f952-4f5a-9c0e-0e11479560e0",
   "metadata": {},
   "outputs": [
    {
     "name": "stdin",
     "output_type": "stream",
     "text": [
      " 149\n"
     ]
    },
    {
     "name": "stdout",
     "output_type": "stream",
     "text": [
      "not a strong number\n"
     ]
    }
   ],
   "source": [
    "n=int(input())\n",
    "original=n\n",
    "sum=0\n",
    "while(n>0):\n",
    "    m=n%10\n",
    "    c=1\n",
    "    while(m>1):\n",
    "        c=c*m\n",
    "        m=m-1\n",
    "    sum=sum+c\n",
    "    n=n//10\n",
    "if(original==sum):\n",
    "    print(\"strong number\")\n",
    "else:\n",
    "    print(\"not a strong number\")"
   ]
  }
 ],
 "metadata": {
  "kernelspec": {
   "display_name": "Python 3 (ipykernel)",
   "language": "python",
   "name": "python3"
  },
  "language_info": {
   "codemirror_mode": {
    "name": "ipython",
    "version": 3
   },
   "file_extension": ".py",
   "mimetype": "text/x-python",
   "name": "python",
   "nbconvert_exporter": "python",
   "pygments_lexer": "ipython3",
   "version": "3.11.7"
  }
 },
 "nbformat": 4,
 "nbformat_minor": 5
}
