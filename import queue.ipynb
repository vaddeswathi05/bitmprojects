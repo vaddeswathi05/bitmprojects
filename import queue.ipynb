{
 "cells": [
  {
   "cell_type": "code",
   "execution_count": 14,
   "id": "0be54871-bb01-4849-87bf-0870497f3e6a",
   "metadata": {},
   "outputs": [
    {
     "name": "stdout",
     "output_type": "stream",
     "text": [
      "0\n",
      "\n",
      "Full: True\n",
      "\n",
      "Elements dequeued from the queue\n",
      "a\n",
      "b\n",
      "c\n",
      "\n",
      "Empty: True\n",
      "\n",
      "Empry: False\n",
      "\n",
      "Empty: False\n"
     ]
    }
   ],
   "source": [
    "from queue import Queue\n",
    "q=Queue(maxsize = 3)\n",
    "print(q.qsize())\n",
    "q.put('a')\n",
    "q.put('b')\n",
    "q.put('c')\n",
    "print(\"\\nFull:\",q.full())\n",
    "print(\"\\nElements dequeued from the queue\")\n",
    "print(q.get())\n",
    "print(q.get())\n",
    "print(q.get())\n",
    "print(\"\\nEmpty:\",q.empty())\n",
    "q.put(1)\n",
    "print(\"\\nEmpry:\",q.empty())\n",
    "print(\"\\nEmpty:\",q.full())"
   ]
  },
  {
   "cell_type": "code",
   "execution_count": null,
   "id": "574b6f2c-4410-4dc1-abee-c95858829d5a",
   "metadata": {},
   "outputs": [],
   "source": []
  }
 ],
 "metadata": {
  "kernelspec": {
   "display_name": "Python 3 (ipykernel)",
   "language": "python",
   "name": "python3"
  },
  "language_info": {
   "codemirror_mode": {
    "name": "ipython",
    "version": 3
   },
   "file_extension": ".py",
   "mimetype": "text/x-python",
   "name": "python",
   "nbconvert_exporter": "python",
   "pygments_lexer": "ipython3",
   "version": "3.11.7"
  }
 },
 "nbformat": 4,
 "nbformat_minor": 5
}
