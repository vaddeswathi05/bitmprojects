{
 "cells": [
  {
   "cell_type": "code",
   "execution_count": 4,
   "id": "f97525fa-ec57-4829-974a-fce804312f90",
   "metadata": {},
   "outputs": [
    {
     "name": "stdout",
     "output_type": "stream",
     "text": [
      "we are in parent class1\n",
      "we are in parent class2\n",
      "im swathi\n"
     ]
    }
   ],
   "source": [
    "class parent1:\n",
    "    def a(self):\n",
    "        print(\"we are in parent class1\")\n",
    "class parent2:\n",
    "    def c(self):\n",
    "        print(\"we are in parent class2\")\n",
    "class child(parent1,parent2):\n",
    "    def swathi(self):\n",
    "        print(\"im swathi\")\n",
    "        \n",
    "obj2=child()\n",
    "obj2.a()\n",
    "obj2.c()\n",
    "obj2.swathi()"
   ]
  }
 ],
 "metadata": {
  "kernelspec": {
   "display_name": "Python 3 (ipykernel)",
   "language": "python",
   "name": "python3"
  },
  "language_info": {
   "codemirror_mode": {
    "name": "ipython",
    "version": 3
   },
   "file_extension": ".py",
   "mimetype": "text/x-python",
   "name": "python",
   "nbconvert_exporter": "python",
   "pygments_lexer": "ipython3",
   "version": "3.11.7"
  }
 },
 "nbformat": 4,
 "nbformat_minor": 5
}
