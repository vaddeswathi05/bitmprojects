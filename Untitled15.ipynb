{
 "cells": [
  {
   "cell_type": "code",
   "execution_count": 1,
   "id": "f91eff1d-581d-4c85-8c57-a13ff6cb7e41",
   "metadata": {},
   "outputs": [
    {
     "name": "stdin",
     "output_type": "stream",
     "text": [
      " 800\n"
     ]
    },
    {
     "name": "stdout",
     "output_type": "stream",
     "text": [
      "Rs: 1425.0\n"
     ]
    }
   ],
   "source": [
    "u=float(input())\n",
    "if(u<=200):\n",
    "    u=u*0.50\n",
    "    print(\"Rs:\",u)\n",
    "elif(u<=400):\n",
    "    u=(u*0.65)+100\n",
    "    print(\"Rs:\",u)\n",
    "elif(u<=600):\n",
    "    u=(u*0.80)+200\n",
    "    print(\"Rs:\",u)\n",
    "else:\n",
    "    u=(u*1.25)+425\n",
    "    print(\"Rs:\",u)"
   ]
  },
  {
   "cell_type": "code",
   "execution_count": null,
   "id": "7665f52d-5220-4f75-bd9d-9569a0587862",
   "metadata": {},
   "outputs": [],
   "source": []
  }
 ],
 "metadata": {
  "kernelspec": {
   "display_name": "Python 3 (ipykernel)",
   "language": "python",
   "name": "python3"
  },
  "language_info": {
   "codemirror_mode": {
    "name": "ipython",
    "version": 3
   },
   "file_extension": ".py",
   "mimetype": "text/x-python",
   "name": "python",
   "nbconvert_exporter": "python",
   "pygments_lexer": "ipython3",
   "version": "3.11.7"
  }
 },
 "nbformat": 4,
 "nbformat_minor": 5
}
