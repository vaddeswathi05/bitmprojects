{
 "cells": [
  {
   "cell_type": "code",
   "execution_count": 7,
   "id": "17aa8d5b-43c9-4820-a9f8-38a664f5b3c6",
   "metadata": {},
   "outputs": [],
   "source": [
    "def my_function(country=\"norway\"):\n",
    "    print(\"i am from\"+country)\n",
    "    my_function(\"sweden\")\n",
    "    my_function(\"india\")\n",
    "    my_function()\n",
    "    my_function(\"brazil\")\n"
   ]
  }
 ],
 "metadata": {
  "kernelspec": {
   "display_name": "Python 3 (ipykernel)",
   "language": "python",
   "name": "python3"
  },
  "language_info": {
   "codemirror_mode": {
    "name": "ipython",
    "version": 3
   },
   "file_extension": ".py",
   "mimetype": "text/x-python",
   "name": "python",
   "nbconvert_exporter": "python",
   "pygments_lexer": "ipython3",
   "version": "3.11.7"
  }
 },
 "nbformat": 4,
 "nbformat_minor": 5
}
