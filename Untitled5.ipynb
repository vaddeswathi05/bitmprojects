{
 "cells": [
  {
   "cell_type": "code",
   "execution_count": 6,
   "id": "08fa66bf-8c85-4083-bd83-886490a16fff",
   "metadata": {},
   "outputs": [
    {
     "name": "stdout",
     "output_type": "stream",
     "text": [
      "we are in parent class\n",
      "we are in parent class\n",
      "we are in 3rd child class\n"
     ]
    }
   ],
   "source": [
    "class parent():\n",
    "    def a(self):\n",
    "        print(\"we are in parent class\")\n",
    "class child1(parent):\n",
    "    def b(self):\n",
    "        print(\"we are in 1st child class\")\n",
    "class child2(child1):\n",
    "    def c(self):\n",
    "        print(\"we are in 2rd child class\")\n",
    "class child3(child1):\n",
    "    def d(self):\n",
    "        print(\"we are in 3rd child class\")\n",
    "class child4(child2):\n",
    "    def e():\n",
    "        print(\"last class\")\n",
    "class child_d:\n",
    "    def single():\n",
    "        print(\"you are in class_d\")\n",
    "\n",
    "obj1=child1()\n",
    "obj2=child2()\n",
    "obj3=child3()\n",
    "obj1.a()\n",
    "obj2.a()\n",
    "obj3.d()\n",
    "\n",
    "\n",
    "        "
   ]
  },
  {
   "cell_type": "code",
   "execution_count": null,
   "id": "6ecbf3f3-1a4d-4c92-882f-cd82d8f97b70",
   "metadata": {},
   "outputs": [],
   "source": []
  }
 ],
 "metadata": {
  "kernelspec": {
   "display_name": "Python 3 (ipykernel)",
   "language": "python",
   "name": "python3"
  },
  "language_info": {
   "codemirror_mode": {
    "name": "ipython",
    "version": 3
   },
   "file_extension": ".py",
   "mimetype": "text/x-python",
   "name": "python",
   "nbconvert_exporter": "python",
   "pygments_lexer": "ipython3",
   "version": "3.11.7"
  }
 },
 "nbformat": 4,
 "nbformat_minor": 5
}
