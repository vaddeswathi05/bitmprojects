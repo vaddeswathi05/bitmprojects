{
 "cells": [
  {
   "cell_type": "code",
   "execution_count": 1,
   "id": "6529407b-9ce2-49a8-8aa4-5a25bb3e9c64",
   "metadata": {},
   "outputs": [
    {
     "name": "stdout",
     "output_type": "stream",
     "text": [
      "we are i grand father class\n",
      "we are in dad's class\n",
      "we are in koduku class\n"
     ]
    }
   ],
   "source": [
    "class grandfather:\n",
    "    def grand(self):\n",
    "        print(\"we are i grand father class\")\n",
    "class father(grandfather):\n",
    "    def dad(self):\n",
    "        print(\"we are in dad's class\")\n",
    "class child(father):\n",
    "    def son(self):\n",
    "        print(\"we are in koduku class\")\n",
    "o=child()\n",
    "o.grand()\n",
    "o.dad()\n",
    "o.son()"
   ]
  },
  {
   "cell_type": "code",
   "execution_count": null,
   "id": "4380cc78-210b-4d8d-b496-b166e668e373",
   "metadata": {},
   "outputs": [],
   "source": []
  }
 ],
 "metadata": {
  "kernelspec": {
   "display_name": "Python 3 (ipykernel)",
   "language": "python",
   "name": "python3"
  },
  "language_info": {
   "codemirror_mode": {
    "name": "ipython",
    "version": 3
   },
   "file_extension": ".py",
   "mimetype": "text/x-python",
   "name": "python",
   "nbconvert_exporter": "python",
   "pygments_lexer": "ipython3",
   "version": "3.11.7"
  }
 },
 "nbformat": 4,
 "nbformat_minor": 5
}
