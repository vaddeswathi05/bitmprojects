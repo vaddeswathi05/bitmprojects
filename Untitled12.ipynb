{
 "cells": [
  {
   "cell_type": "code",
   "execution_count": null,
   "id": "02e1b680-77f2-4248-9302-bbf6b1a99990",
   "metadata": {},
   "outputs": [],
   "source": [
    "polymorphism is a concepct of having a same method names in two diffrent classes and it will perform diffrent tasks assign a particular class .\n",
    "examples:"
   ]
  },
  {
   "cell_type": "code",
   "execution_count": 18,
   "id": "bcbef871-7b0a-4d42-8d48-215dbf12d02b",
   "metadata": {},
   "outputs": [
    {
     "ename": "IndentationError",
     "evalue": "unindent does not match any outer indentation level (<tokenize>, line 21)",
     "output_type": "error",
     "traceback": [
      "\u001b[1;36m  File \u001b[1;32m<tokenize>:21\u001b[1;36m\u001b[0m\n\u001b[1;33m    obj_ind=India()\u001b[0m\n\u001b[1;37m    ^\u001b[0m\n\u001b[1;31mIndentationError\u001b[0m\u001b[1;31m:\u001b[0m unindent does not match any outer indentation level\n"
     ]
    }
   ],
   "source": [
    "class India():\n",
    "    def capital(self):\n",
    "        print(\"New Delhi is the capital of india.\")\n",
    "        \n",
    "        def language(self):\n",
    "            print(\"Hindhi is the most widely spoken language of India.\")\n",
    "            \n",
    "        def type(self):\n",
    "            print(\"India is a developing country.\")\n",
    "\n",
    "    class USA():\n",
    "        def capital(self):\n",
    "                print(\"washington, D.C. is the capital of USA.\")\n",
    "\n",
    "        def language(self):\n",
    "            print(\"English is the primary language of USA.\")\n",
    "\n",
    "        def type(self):\n",
    "            print(\"USA is a developed country.\")\n",
    "\n",
    "     obj_ind=India()\n",
    "     obj_usa=USA()\n",
    "     for country in(obj_ind, obj_usa):\n",
    "         country.capital()\n",
    "         country.language()\n",
    "         country.type()"
   ]
  }
 ],
 "metadata": {
  "kernelspec": {
   "display_name": "Python 3 (ipykernel)",
   "language": "python",
   "name": "python3"
  },
  "language_info": {
   "codemirror_mode": {
    "name": "ipython",
    "version": 3
   },
   "file_extension": ".py",
   "mimetype": "text/x-python",
   "name": "python",
   "nbconvert_exporter": "python",
   "pygments_lexer": "ipython3",
   "version": "3.11.7"
  }
 },
 "nbformat": 4,
 "nbformat_minor": 5
}
