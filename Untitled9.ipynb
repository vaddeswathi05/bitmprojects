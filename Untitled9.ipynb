{
 "cells": [
  {
   "cell_type": "code",
   "execution_count": null,
   "id": "2a8326e0-82ca-4d69-b104-11ef353abc9b",
   "metadata": {},
   "outputs": [],
   "source": [
    "write a programm to print number of vowles present in string.\n",
    "sample input ballari\n",
    "output 3   "
   ]
  },
  {
   "cell_type": "code",
   "execution_count": 7,
   "id": "378708d8-5123-4fe9-840f-a2862f8ffc82",
   "metadata": {},
   "outputs": [
    {
     "ename": "SyntaxError",
     "evalue": "invalid syntax. Perhaps you forgot a comma? (1740046748.py, line 4)",
     "output_type": "error",
     "traceback": [
      "\u001b[1;36m  Cell \u001b[1;32mIn[7], line 4\u001b[1;36m\u001b[0m\n\u001b[1;33m    if(char=='a' or char=='e' or char== 'i'char=='o' or char=='u' or char=='A' or char=='E' or char=='I' or char=='O' or char=='U'):\u001b[0m\n\u001b[1;37m       ^\u001b[0m\n\u001b[1;31mSyntaxError\u001b[0m\u001b[1;31m:\u001b[0m invalid syntax. Perhaps you forgot a comma?\n"
     ]
    }
   ],
   "source": [
    "s=input()\n",
    "c=0\n",
    "for char in s:\n",
    "    if(char=='a' or char=='e' or char== 'i'char=='o' or char=='u' or char=='A' or char=='E' or char=='I' or char=='O' or char=='U'):\n",
    "       c=c+1\n",
    "print(\"count of vowles=\",c)"
   ]
  }
 ],
 "metadata": {
  "kernelspec": {
   "display_name": "Python 3 (ipykernel)",
   "language": "python",
   "name": "python3"
  },
  "language_info": {
   "codemirror_mode": {
    "name": "ipython",
    "version": 3
   },
   "file_extension": ".py",
   "mimetype": "text/x-python",
   "name": "python",
   "nbconvert_exporter": "python",
   "pygments_lexer": "ipython3",
   "version": "3.11.7"
  }
 },
 "nbformat": 4,
 "nbformat_minor": 5
}
